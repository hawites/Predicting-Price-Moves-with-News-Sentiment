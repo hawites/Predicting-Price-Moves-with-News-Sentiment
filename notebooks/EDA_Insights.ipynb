import sys
from src.data_loader import DataLoader
from src.eda_analyzer import EDAAnalyzer

sys.path.append("../")
# Load data
loader = DataLoader("../data/raw_analyst_ratings.csv")
df = loader.load_data()

# EDA
eda = EDAAnalyzer(df)
eda.describe_headline_lengths()
eda.publisher_counts()
eda.publication_trend()
eda.extract_top_keywords(top_n=5)
eda.analyze_publication_times()
eda.extract_publisher_domains()
