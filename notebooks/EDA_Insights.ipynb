import sys
import os

# Add the src folder to the system path
sys.path.append(os.path.abspath(os.path.join('..', 'src')))

from data_loader import DataLoader
from eda_analyzer import EDAAnalyzer

# Load data
loader = DataLoader("../data/raw_analyst_ratings.csv")
df = loader.load_data()

# EDA
eda = EDAAnalyzer(df)
eda.describe_headline_lengths()
eda.publisher_counts()
eda.publication_trend()
eda.extract_top_keywords(top_n=5)
eda.analyze_publication_times()
eda.extract_publisher_domains()
