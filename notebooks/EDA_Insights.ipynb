{
 "cells": [
  {
   "cell_type": "code",
   "execution_count": null,
   "id": "pipeline",
   "metadata": {
    "scrolled": true
   },
   "outputs": [],
   "source": [
    "import sys\n",
    "import os\n",
    "import importlib\n",
    "\n",
    "sys.path.append(os.path.abspath(\"..\"))\n",
    "import src.data_manager\n",
    "importlib.reload(src.data_manager)\n",
    "import src.eda_analyzer\n",
    "importlib.reload(src.eda_analyzer)\n",
    "\n",
    "from src.data_manager import DataManager\n",
    "\n",
    "from src.eda_analyzer import EDAAnalyzer\n",
    "\n",
    "\n",
    "# Load data & Observe data\n",
    "datamanager = DataManager(\"../data/raw_analyst_ratings.csv\")\n",
    "df_raw = datamanager.load_data()\n",
    "#datamanager.observe_data()\n",
    "#datamanager.plot_missing_values()\n",
    "#datamanager.plot_headline_length_distribution()\n",
    "#datamanager.plot_top_publishers()\n",
    "#datamanager.plot_top_stocks()\n",
    "#datamanager.plot_publication_trends()\n",
    "#datamanager.plot_publication_hour_distribution()\n",
    "\n",
    "#Clean data\n",
    "df_cleaned = datamanager.clean_data()\n",
    "df_cleaned.to_csv(\"../data/cleaned_news_data.csv\", index=False)\n",
    "\n",
    "\n",
    "\n",
    "\n",
    "# EDA\n",
    "eda = EDAAnalyzer(df_cleaned)\n",
    "\n",
    "#eda.basic_statistics()\n",
    "#eda.publisher_analysis()\n",
    "#eda.time_series_trends()\n",
    "#eda.headline_length_distribution()\n",
    "eda.generate_wordcloud()\n",
    "eda.keyword_frequencies()"
   ]
  },
  {
   "cell_type": "code",
   "execution_count": null,
   "id": "0cf256ee-b3fd-422c-a371-b7c1c4fd7e06",
   "metadata": {},
   "outputs": [],
   "source": []
  }
 ],
 "metadata": {
  "kernelspec": {
   "display_name": "Python 3 (ipykernel)",
   "language": "python",
   "name": "python3"
  },
  "language_info": {
   "codemirror_mode": {
    "name": "ipython",
    "version": 3
   },
   "file_extension": ".py",
   "mimetype": "text/x-python",
   "name": "python",
   "nbconvert_exporter": "python",
   "pygments_lexer": "ipython3",
   "version": "3.13.0"
  }
 },
 "nbformat": 4,
 "nbformat_minor": 5
}
