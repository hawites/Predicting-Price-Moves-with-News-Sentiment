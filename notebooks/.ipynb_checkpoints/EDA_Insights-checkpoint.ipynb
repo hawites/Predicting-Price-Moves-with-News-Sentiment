{
 "cells": [
  {
   "cell_type": "code",
   "execution_count": null,
   "id": "pipeline",
   "metadata": {},
   "outputs": [],
   "source": [
    "import sys\n",
    "import os\n",
    "\n",
    "# Add the src folder to the system path\n",
    "sys.path.append(os.path.abspath(os.path.join('..', 'src')))\n",
    "\n",
    "from data_loader import DataLoader\n",
    "from eda_analyzer import EDAAnalyzer\n",
    "\n",
    "# Load data\n",
    "loader = DataLoader(\"../data/raw_analyst_ratings.csv\")\n",
    "df = loader.load_data()\n",
    "\n",
    "# EDA\n",
    "eda = EDAAnalyzer(df)\n",
    "eda.describe_headline_lengths()\n",
    "eda.publisher_counts()\n",
    "eda.publication_trend()\n",
    "eda.extract_top_keywords(top_n=5)\n",
    "eda.analyze_publication_times()\n",
    "eda.extract_publisher_domains()"
   ]
  }
 ],
 "metadata": {
  "kernelspec": {
   "display_name": "Python 3",
   "language": "python",
   "name": "python3"
  },
  "language_info": {
   "name": "python",
   "version": "3.10"
  }
 },
 "nbformat": 4,
 "nbformat_minor": 5
}
